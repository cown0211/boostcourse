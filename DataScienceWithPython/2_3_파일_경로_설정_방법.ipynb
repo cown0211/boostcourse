{
  "nbformat": 4,
  "nbformat_minor": 0,
  "metadata": {
    "colab": {
      "provenance": [],
      "collapsed_sections": [],
      "authorship_tag": "ABX9TyOa8bJkjWoTNOQFXdQKaJn7",
      "include_colab_link": true
    },
    "kernelspec": {
      "name": "python3",
      "display_name": "Python 3"
    },
    "language_info": {
      "name": "python"
    }
  },
  "cells": [
    {
      "cell_type": "markdown",
      "metadata": {
        "id": "view-in-github",
        "colab_type": "text"
      },
      "source": [
        "<a href=\"https://colab.research.google.com/github/cown0211/boostcourse/blob/main/2_3_%ED%8C%8C%EC%9D%BC_%EA%B2%BD%EB%A1%9C_%EC%84%A4%EC%A0%95_%EB%B0%A9%EB%B2%95.ipynb\" target=\"_parent\"><img src=\"https://colab.research.google.com/assets/colab-badge.svg\" alt=\"Open In Colab\"/></a>"
      ]
    },
    {
      "cell_type": "code",
      "execution_count": null,
      "metadata": {
        "id": "PW7RskxLmWL8"
      },
      "outputs": [],
      "source": [
        "# 맥\n",
        "%mv /Users/.../file.csv .\n",
        "\n",
        "# 윈도우\n",
        "!move \"C:\\Downloads\\도로교통공단1.csv\" .\n",
        "\n",
        "# 위와 같이 적으면, 적어둔 경로로부터 현재 폴더로 이동\n",
        "\n",
        "# 다른곳으로 보내고 싶다면?\n",
        "\n",
        "!move \"파일다운로드 받은 경로\" \"보내고싶은 목적지 경로\" .(마침표)\n",
        "# 큰따옴표 필수\n"
      ]
    },
    {
      "cell_type": "code",
      "source": [
        "# 현재 경로 확인\n",
        "%pwd"
      ],
      "metadata": {
        "colab": {
          "base_uri": "https://localhost:8080/",
          "height": 36
        },
        "id": "Itafn0iHoCmf",
        "outputId": "861a7a66-41a7-4abf-9ecf-636dc81662ee"
      },
      "execution_count": null,
      "outputs": [
        {
          "output_type": "execute_result",
          "data": {
            "text/plain": [
              "'/content'"
            ],
            "application/vnd.google.colaboratory.intrinsic+json": {
              "type": "string"
            }
          },
          "metadata": {},
          "execution_count": 2
        }
      ]
    },
    {
      "cell_type": "code",
      "source": [
        "# 현재 경로에 있는 파일 확인\n",
        "%ls"
      ],
      "metadata": {
        "colab": {
          "base_uri": "https://localhost:8080/"
        },
        "id": "wpQWcs_Yn8tU",
        "outputId": "58b9c9d0-e090-43a8-c8a0-3c944f63c5dd"
      },
      "execution_count": null,
      "outputs": [
        {
          "output_type": "stream",
          "name": "stdout",
          "text": [
            "\u001b[0m\u001b[01;34msample_data\u001b[0m/\n"
          ]
        }
      ]
    }
  ]
}
